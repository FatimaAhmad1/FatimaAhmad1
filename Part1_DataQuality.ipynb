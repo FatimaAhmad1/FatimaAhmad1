{
 "cells": [
  {
   "cell_type": "markdown",
   "id": "be589715-c06f-4dd4-9a64-7d2b2c561e94",
   "metadata": {},
   "source": [
    "   # Zesty.AI Analyst Challenge: Part 1"
   ]
  },
  {
   "cell_type": "markdown",
   "id": "445ec72e-f80b-49d9-bc23-066b013ba896",
   "metadata": {
    "tags": []
   },
   "source": [
    "## Import Libraries & DataFrames"
   ]
  },
  {
   "cell_type": "markdown",
   "id": "ba393119-924c-4fa1-80bb-25aa028b1188",
   "metadata": {},
   "source": [
    "I begin the project by importing the Pandas library and the data sets provided for this case. I then run a few commands to understand how the data looks."
   ]
  },
  {
   "cell_type": "code",
   "execution_count": 1,
   "id": "381e83a6-95fb-4472-ba41-c3a1c4663248",
   "metadata": {
    "tags": []
   },
   "outputs": [],
   "source": [
    "import pandas as pd\n",
    "test = pd.read_csv(r'/Users/fatim_/Downloads/test.csv')\n",
    "clean = pd.read_csv(r'/Users/fatim_/Downloads/all_addresses.csv')"
   ]
  },
  {
   "cell_type": "code",
   "execution_count": 2,
   "id": "bc08960e-6a98-4bb6-affa-af5835478474",
   "metadata": {
    "tags": []
   },
   "outputs": [
    {
     "name": "stdout",
     "output_type": "stream",
     "text": [
      "uid          int64\n",
      "address     object\n",
      "city        object\n",
      "state       object\n",
      "zip        float64\n",
      "dtype: object\n"
     ]
    }
   ],
   "source": [
    "test_types = test.dtypes\n",
    "print(test_types)"
   ]
  },
  {
   "cell_type": "code",
   "execution_count": 3,
   "id": "00402a59-104b-47ec-a3e4-0d84b217a084",
   "metadata": {
    "tags": []
   },
   "outputs": [
    {
     "name": "stdout",
     "output_type": "stream",
     "text": [
      "address    object\n",
      "city       object\n",
      "state      object\n",
      "zip        object\n",
      "dtype: object\n"
     ]
    }
   ],
   "source": [
    "clean_types = clean.dtypes\n",
    "print(clean_types)"
   ]
  },
  {
   "cell_type": "code",
   "execution_count": 4,
   "id": "a9a2d8cd-4db9-4067-a5bf-4de33c69afe2",
   "metadata": {
    "tags": []
   },
   "outputs": [
    {
     "data": {
      "text/plain": [
       "99249"
      ]
     },
     "execution_count": 4,
     "metadata": {},
     "output_type": "execute_result"
    }
   ],
   "source": [
    "len(test)"
   ]
  },
  {
   "cell_type": "code",
   "execution_count": 5,
   "id": "5d70f6af-e153-4c76-94db-3a055c250b7d",
   "metadata": {
    "tags": []
   },
   "outputs": [
    {
     "data": {
      "text/plain": [
       "130000"
      ]
     },
     "execution_count": 5,
     "metadata": {},
     "output_type": "execute_result"
    }
   ],
   "source": [
    "len(clean)"
   ]
  },
  {
   "cell_type": "markdown",
   "id": "764e03d0-8ac9-4524-837a-1406cf0713dc",
   "metadata": {},
   "source": [
    "A few observations can already be made. Firstly, I can see that the clean dataframe (i.e. the list of correctly formatted addresses) is larger than the test dataframe. That implies we cannot do any row to row comparisons between the two dataframes, as there is no guarantee the dataframes are ordered."
   ]
  },
  {
   "cell_type": "markdown",
   "id": "562b5206-5d3e-429d-84a7-cd7513752535",
   "metadata": {},
   "source": [
    "## Find the starting coverage rate"
   ]
  },
  {
   "cell_type": "markdown",
   "id": "4aabefd6-9ab8-488c-814d-116aadfedc3d",
   "metadata": {},
   "source": [
    "Let's first start simple with street addresses and see how many exact matches there are from the test dataframe to the clean dataframe."
   ]
  },
  {
   "cell_type": "code",
   "execution_count": 6,
   "id": "922f068f-6ead-4ff7-a146-625371606754",
   "metadata": {
    "tags": []
   },
   "outputs": [
    {
     "name": "stdout",
     "output_type": "stream",
     "text": [
      "Number of exact matches: 72096\n"
     ]
    }
   ],
   "source": [
    "exact_matches = test[test['address'].isin(clean['address'])]\n",
    "exact_matches_count = len(exact_matches)\n",
    "print(f\"Number of exact matches: {exact_matches_count}\")"
   ]
  },
  {
   "cell_type": "markdown",
   "id": "0e433523-97b6-4e26-a8d2-799f943b9085",
   "metadata": {},
   "source": [
    "Great! We can see that there are 72,096 out of 99,249 street addresses from our test dataframe that are an exact match to the clean dataframe. However, we've excluded the other location fields such as city, state and zip. To provide an accurate current coverage rate, we need to see how many complete addresses are exact matches between the two dataframes.\n",
    "\n",
    "Let's do this by concatenating all the property fields together to create a full address."
   ]
  },
  {
   "cell_type": "code",
   "execution_count": 7,
   "id": "38e60277-1ad8-4ce3-8afe-aae1d0c7d093",
   "metadata": {
    "tags": []
   },
   "outputs": [],
   "source": [
    "#convert test.zip from float to string, and remove the extra characters at the end.\n",
    "test[\"zip\"] = test[\"zip\"].astype(str).str[:-2]\n",
    "\n",
    "#creating full addresses for each dataframe\n",
    "test[\"fulladdress\"] = test['address'] + \", \" + test['city'] + \", \" + test['state'] + \" \" + test['zip']\n",
    "clean[\"fulladdress\"] = clean['address'] + \", \" + clean['city'] + \", \" + clean['state'] + \" \" + clean['zip']"
   ]
  },
  {
   "cell_type": "markdown",
   "id": "b56cf7c8-2150-409e-8e64-5789e5a1490d",
   "metadata": {},
   "source": [
    "Now let us see how many exact full address matches there are between the test and clean data set."
   ]
  },
  {
   "cell_type": "code",
   "execution_count": 8,
   "id": "94803924-f510-48ea-b0d9-5f529f915657",
   "metadata": {
    "tags": []
   },
   "outputs": [
    {
     "name": "stdout",
     "output_type": "stream",
     "text": [
      "Number of exact full address matches: 64526\n"
     ]
    }
   ],
   "source": [
    "exact_matches_fulladdress = test[test['fulladdress'].isin(clean['fulladdress'])]\n",
    "exact_matches_fulladdress_count = len(exact_matches_fulladdress)\n",
    "print(f\"Number of exact full address matches: {exact_matches_fulladdress_count}\")"
   ]
  },
  {
   "cell_type": "markdown",
   "id": "568cd36f-c66f-4187-b583-395f0ff35534",
   "metadata": {},
   "source": [
    "There are currently 64,526 exact full address matches from the test to clean data set. This means the current coverage rate is 65% .. we have ways to go! Before we jump right in to clean and format the test dataframe to maximize it's coverage rate, let's do a pre-liminary analysis and locate the data that is currently incorrect."
   ]
  },
  {
   "cell_type": "markdown",
   "id": "e0bcd8ca-9b5d-4832-ae95-54bb63394d35",
   "metadata": {},
   "source": [
    "## Locating Missing Data & Data Inconsistencies"
   ]
  },
  {
   "cell_type": "markdown",
   "id": "04d88420-8ef2-4dfa-9c35-8e5168a4e984",
   "metadata": {
    "tags": []
   },
   "source": [
    "Is our test dataframe missing data? Is there only a single column that has incorrect data? Are there multiple? Let's see! Let's first do a quick check for missing data."
   ]
  },
  {
   "cell_type": "code",
   "execution_count": 9,
   "id": "e0054a72-18c0-4dd5-aee6-db2aa7f99f71",
   "metadata": {
    "tags": []
   },
   "outputs": [
    {
     "data": {
      "text/plain": [
       "uid               0\n",
       "address           0\n",
       "city           1282\n",
       "state          7433\n",
       "zip               0\n",
       "fulladdress    8715\n",
       "dtype: int64"
      ]
     },
     "execution_count": 9,
     "metadata": {},
     "output_type": "execute_result"
    }
   ],
   "source": [
    "test.isnull().sum()"
   ]
  },
  {
   "cell_type": "markdown",
   "id": "9c89712f-3066-4af6-bf27-43bd2b1d7e3c",
   "metadata": {},
   "source": [
    "Empty entries exist for both city and state columns. On an interesting note, there are 8,715 incomplete fulladdresses, which is a summation of missing city and state entries. This means that records can either have a missing city entry or a missing state entry, but they never have both. \n",
    "\n",
    "Another test you can do for inconsistencies, is run \"test['address'] = test['address'].str.lower()\" and \"clean['address'] = clean['address'].str.lower()\", and do the same matching exercise we did previously against the test and clean dataframe. If more matches show up after applying the lowercase function to your string columns, that means there are in-correct casings in your data that you need to correct for. To save space in this paper, I have done this test aside and can conclude there are no incorrect casings in the test dataframe.\n",
    "\n",
    "Now let's see if there are certain columns that are inconsistent with the others when comparing across the test and clean dataframes. Let's start off with zipcode. The exercise is as follows: If there is a record where the fields address, city and state, all together match between the test and clean data frame, the zipcode should hypothetically match as well. If it does not, then the zipcode is incorrect. Let's see how many incorrect zipcodes we have in the test data frame."
   ]
  },
  {
   "cell_type": "code",
   "execution_count": 10,
   "id": "5ca940ba-d4d8-40c5-a3ea-3390987ae2c6",
   "metadata": {
    "tags": []
   },
   "outputs": [
    {
     "name": "stdout",
     "output_type": "stream",
     "text": [
      "Empty DataFrame\n",
      "Columns: []\n",
      "Index: [0, 1, 2, 3, 4, 5, 6, 7, 8, 9, 10, 11, 12, 13, 14, 15, 16, 17, 18, 19, 20, 21, 22, 23, 24, 25, 26, 27, 28, 29, 30, 31, 32, 33, 34, 35, 36, 37, 38, 39, 40, 41, 42, 43, 44, 45, 46, 47, 48, 49, 50, 51, 52, 53, 54, 55, 56, 57, 58, 59, 60, 61, 62, 63, 64, 65, 66, 67, 68, 69, 70, 71, 72, 73, 74, 75, 76, 77, 78, 79, 80, 81, 82, 83, 84, 85, 86, 87, 88, 89, 90, 91, 92, 93, 94, 95, 96, 97, 98, 99, ...]\n",
      "\n",
      "[99249 rows x 0 columns]\n"
     ]
    }
   ],
   "source": [
    "#Finding out if there are records between test and clean, where zipcode doesn't match but address, city and state all match.\n",
    "#Match address, city and state from the test dataframe to the clean data frame\n",
    "matches_no_zip = test[test[['address', 'city', 'state']].isin(clean[['address', 'city', 'state']]).all(axis=1)]\n",
    "\n",
    "#Match address, city, state and zip from the test dataframe to the clean data frame.\n",
    "matches_zip = test[test[['address', 'city', 'state', 'zip']].isin(clean[['address', 'city', 'state', 'zip']]).all(axis=1)]\n",
    "\n",
    "#From test, find and print rows that are in matches_no_zip but not in matches_zip\n",
    "rows_to_print = test[matches_no_zip[~matches_no_zip.isin(matches_zip)].dropna().index]\n",
    "print(rows_to_print)"
   ]
  },
  {
   "cell_type": "markdown",
   "id": "b08c2ee3-ea38-4117-9657-7432bf76d89f",
   "metadata": {},
   "source": [
    "Our dataframe is empty, which means zipcodes for the properties that match atleast address, city, and state, are correct!\n",
    "Let's do this same exercise independently for address, city and state as well. We'll start off with city, state then finish with address."
   ]
  },
  {
   "cell_type": "code",
   "execution_count": 11,
   "id": "a33b93e6-d4d2-463e-8ccf-a141dcf9ba56",
   "metadata": {
    "tags": []
   },
   "outputs": [
    {
     "name": "stdout",
     "output_type": "stream",
     "text": [
      "Empty DataFrame\n",
      "Columns: []\n",
      "Index: [0, 1, 2, 3, 4, 5, 6, 7, 8, 9, 10, 11, 12, 13, 14, 15, 16, 17, 18, 19, 20, 21, 22, 23, 24, 25, 26, 27, 28, 29, 30, 31, 32, 33, 34, 35, 36, 37, 38, 39, 40, 41, 42, 43, 44, 45, 46, 47, 48, 49, 50, 51, 52, 53, 54, 55, 56, 57, 58, 59, 60, 61, 62, 63, 64, 65, 66, 67, 68, 69, 70, 71, 72, 73, 74, 75, 76, 77, 78, 79, 80, 81, 82, 83, 84, 85, 86, 87, 88, 89, 90, 91, 92, 93, 94, 95, 96, 97, 98, 99, ...]\n",
      "\n",
      "[99249 rows x 0 columns]\n"
     ]
    }
   ],
   "source": [
    "#Finding out if there are records between test and clean, where city doesn't match but address, state and zip all match.\n",
    "#Match address, state and zip from the test dataframe to the clean data frame. Exclude city.\n",
    "matches_no_city = test[test[['address', 'state', 'zip']].isin(clean[['address', 'state', 'zip']]).all(axis=1)]\n",
    "\n",
    "#Match address, city, state and zip from the test dataframe to the clean data frame.\n",
    "matches_city = test[test[['address', 'city', 'state', 'zip']].isin(clean[['address', 'city', 'state', 'zip']]).all(axis=1)]\n",
    "\n",
    "#From test, find and print rows from test that are in matches_no_city but not in matches_city\n",
    "rows_to_print = test[matches_no_city[~matches_no_city.isin(matches_city)].dropna().index]\n",
    "\n",
    "print(rows_to_print)"
   ]
  },
  {
   "cell_type": "code",
   "execution_count": 12,
   "id": "6b5a3a7a-faa5-4cd7-aa0f-27105e10d1e5",
   "metadata": {},
   "outputs": [
    {
     "name": "stdout",
     "output_type": "stream",
     "text": [
      "Empty DataFrame\n",
      "Columns: []\n",
      "Index: [0, 1, 2, 3, 4, 5, 6, 7, 8, 9, 10, 11, 12, 13, 14, 15, 16, 17, 18, 19, 20, 21, 22, 23, 24, 25, 26, 27, 28, 29, 30, 31, 32, 33, 34, 35, 36, 37, 38, 39, 40, 41, 42, 43, 44, 45, 46, 47, 48, 49, 50, 51, 52, 53, 54, 55, 56, 57, 58, 59, 60, 61, 62, 63, 64, 65, 66, 67, 68, 69, 70, 71, 72, 73, 74, 75, 76, 77, 78, 79, 80, 81, 82, 83, 84, 85, 86, 87, 88, 89, 90, 91, 92, 93, 94, 95, 96, 97, 98, 99, ...]\n",
      "\n",
      "[99249 rows x 0 columns]\n"
     ]
    }
   ],
   "source": [
    "#Finding out if there are records between test and clean, where state doesn't match but address, city and zip all match.\n",
    "#Match address, city and zip from the test dataframe to the clean data frame. Exclude state.\n",
    "matches_no_state = test[test[['address', 'city', 'zip']].isin(clean[['address', 'city', 'zip']]).all(axis=1)]\n",
    "\n",
    "#Match address, city, state and zip from the test dataframe to the clean data frame.\n",
    "matches_state = test[test[['address', 'city', 'state', 'zip']].isin(clean[['address', 'city', 'state', 'zip']]).all(axis=1)]\n",
    "\n",
    "#From test, find and print rows from test that are in matches_no_state but not in matches_state\n",
    "rows_to_print = test[matches_no_state[~matches_no_state.isin(matches_state)].dropna().index]\n",
    "\n",
    "print(rows_to_print)"
   ]
  },
  {
   "cell_type": "code",
   "execution_count": 13,
   "id": "cc5b4fbe-9f61-40df-9a48-b363ba61e665",
   "metadata": {
    "tags": []
   },
   "outputs": [
    {
     "name": "stdout",
     "output_type": "stream",
     "text": [
      "         uid                       address           city state    zip  \\\n",
      "3          4                    7 ucayptus  Newport Beach    CA  92657   \n",
      "5          6            725 ounain View St       Altadena    CA  91001   \n",
      "7          8                    431 6th St     Sacramento    CA  95820   \n",
      "9         10    3640 Oak Creek Dr, Unit 10        Ontario    CA  91761   \n",
      "11        12             5571Moringside Dr        Clayton    CA  94517   \n",
      "...      ...                           ...            ...   ...    ...   \n",
      "94740  95459                1610 Shern Way       Petaluma    CA  94954   \n",
      "95833  96565           1356 San Madele Ave         Fresno    CA  93711   \n",
      "96595  97330  27012 Cordero Ln, Unit 96596  Mission Viejo    CA  92691   \n",
      "96623  97358              9788 Monterey Rd    Morgan Hill    CA  95037   \n",
      "98554  99301       18588 Caminito Pasadero      San Diego    CA  92128   \n",
      "\n",
      "                                             fulladdress  \n",
      "3                    7 ucayptus, Newport Beach, CA 92657  \n",
      "5                 725 ounain View St, Altadena, CA 91001  \n",
      "7                       431 6th St, Sacramento, CA 95820  \n",
      "9          3640 Oak Creek Dr, Unit 10, Ontario, CA 91761  \n",
      "11                  5571Moringside Dr, Clayton, CA 94517  \n",
      "...                                                  ...  \n",
      "94740                 1610 Shern Way, Petaluma, CA 94954  \n",
      "95833              1356 San Madele Ave, Fresno, CA 93711  \n",
      "96595  27012 Cordero Ln, Unit 96596, Mission Viejo, C...  \n",
      "96623            9788 Monterey Rd, Morgan Hill, CA 95037  \n",
      "98554       18588 Caminito Pasadero, San Diego, CA 92128  \n",
      "\n",
      "[71 rows x 6 columns]\n"
     ]
    }
   ],
   "source": [
    "#Finding out if there are records between test and clean, where address doesn't match but state, city and zip all match.\n",
    "#Match address, city and zip from the test dataframe to the clean data frame. Exclude address.\n",
    "matches_no_address = test[test[['city', 'state', 'zip']].isin(clean[['city', 'state', 'zip']]).all(axis=1)]\n",
    "\n",
    "#Match address, city, state and zip from the test dataframe to the clean data frame.\n",
    "matches_address = test[test[['address', 'city', 'state', 'zip']].isin(clean[['address', 'city', 'state', 'zip']]).all(axis=1)]\n",
    "\n",
    "#From test, find and print rows from test that are in matches_no_state but not in matches_state\n",
    "rows_to_print = matches_no_address[~matches_no_address.index.isin(matches_address.index)]\n",
    "\n",
    "print(rows_to_print)"
   ]
  },
  {
   "cell_type": "markdown",
   "id": "6720c407-a74f-408d-bddc-9d667c8d74b0",
   "metadata": {
    "tags": []
   },
   "source": [
    "Looks like there are no records where city, state, or zip are incorrect but all the other fields match! Great, this means no cleaning for these columns (but we're not done with these columns - we'll get back to this in the next section). \n",
    "\n",
    "However, for address we see there are 71 rows where the city, state and zip match between the rows of the two dataframes, but the address is incorrect. Is this something we can correct for? Let's give this a shot in the next section."
   ]
  },
  {
   "cell_type": "markdown",
   "id": "c9606d6c-41cf-40af-a83e-a1e7e69fa745",
   "metadata": {},
   "source": [
    "## Data Cleaning & Transformations\n",
    "\n",
    "We know that there are issues with the accuracy of our street addresses. If we do a data preview using test.head(100) there are a few things that stand out immediately that we can do to increase our coverage rate.\n",
    "\n",
    "### Cleaning street addresses.\n",
    "1. Remove unit numbers from street addresses.\n",
    "    *(ex. \"3640 Oak Creek Dr, Unit 10\" to \"3640 Oak Creek Dr\")*\n",
    "2. Add a space after the street number and street name\n",
    "    *(ex. \"9690Canon Way\" to \"9690 Canon Way\")*\n",
    "3. Add missing letters to street names\n",
    "    *(ex. \"525 heynne Dr\" to \"525 Cheyenne Dr\")*\n",
    "\n",
    "We'll get to points 1. and 2. in a moment, but let's first *address* 3. (no pun intended). In order to add in the missing letters to street names, you will have to find the correct street address using external mapping libraries. For example, a Google Maps API connection can be made where we can search and fill in the street address based on the other four fields (city, state and zip), assuming zipcode is unique to the street address. However, that is beyond the scope of this assignment so we will not be actioning on 3). Note, this is one of the factors that will prevent us from reaching a full coverage rate. \n",
    "\n",
    "Without further ado, let's action on points 1. and 2.."
   ]
  },
  {
   "cell_type": "code",
   "execution_count": 14,
   "id": "36a27295-807c-4e23-998f-acdb49ba1457",
   "metadata": {
    "tags": []
   },
   "outputs": [
    {
     "name": "stderr",
     "output_type": "stream",
     "text": [
      "/tmp/ipykernel_15366/2349279892.py:2: FutureWarning: The default value of regex will change from True to False in a future version.\n",
      "  test['address'] = test['address'].str.replace(r', Unit \\d+', '')\n"
     ]
    }
   ],
   "source": [
    "#1 . Remove unit numbers from street addresses\n",
    "test['address'] = test['address'].str.replace(r', Unit \\d+', '')"
   ]
  },
  {
   "cell_type": "code",
   "execution_count": 15,
   "id": "a24a0fc6-462a-4f36-96af-d908f85c10f1",
   "metadata": {
    "tags": []
   },
   "outputs": [
    {
     "name": "stderr",
     "output_type": "stream",
     "text": [
      "/tmp/ipykernel_15366/3280016895.py:2: FutureWarning: The default value of regex will change from True to False in a future version.\n",
      "  test['address'] = test['address'].str.replace(r'(\\d+)\\s*([A-Za-z])', r'\\1 \\2')\n"
     ]
    }
   ],
   "source": [
    "#2. Add a space after the Street Number and Street Name.\n",
    "test['address'] = test['address'].str.replace(r'(\\d+)\\s*([A-Za-z])', r'\\1 \\2')"
   ]
  },
  {
   "cell_type": "markdown",
   "id": "a92a3323-db54-4b58-aad1-a6e73a7f81c8",
   "metadata": {},
   "source": [
    "If you do a data preview using test.head(10), it looks like adding a space between the numbers and letters of address resulted in a little mishap where street names that include a number in the name, got split up. (ex. '431 6th St' became '431 6 th St'). Let's quickly correct for this."
   ]
  },
  {
   "cell_type": "code",
   "execution_count": 16,
   "id": "feb3eb1f-e9bb-4fe7-bc6b-96a40b6e2e1d",
   "metadata": {
    "tags": []
   },
   "outputs": [
    {
     "name": "stderr",
     "output_type": "stream",
     "text": [
      "/tmp/ipykernel_15366/3397150675.py:3: FutureWarning: The default value of regex will change from True to False in a future version.\n",
      "  test[column] = test[column].str.replace(r'(\\d+)\\s+(th|nd)\\b', r'\\1\\2')\n"
     ]
    }
   ],
   "source": [
    "#Remove spaces where there is a number of digits, followed by one or more spaces, and the letters \"th\" or \"nd\"\n",
    "def remove_space_between_number(test, column):\n",
    "    test[column] = test[column].str.replace(r'(\\d+)\\s+(th|nd)\\b', r'\\1\\2')\n",
    "\n",
    "# Apply the function to the 'address' column\n",
    "remove_space_between_number(test, 'address')\n"
   ]
  },
  {
   "cell_type": "markdown",
   "id": "a6dfe087-4ff1-445b-9db6-03ac117ce7c1",
   "metadata": {},
   "source": [
    "### Completing missing city information\n",
    "\n",
    "We noted at the beginning of our pre-liminary analysis that both city and state contain null values. A transformation step that can be taken here is to fill in the empty cells based on the other fields. We noted previously that a record will never be missing both city and state, it will only exclude one or the other. So you can index against the non-missing field alongside zipcode, to fill in the missing field. However, due to similar reasoning we mentioned for missing letters in street addresses, that is the beyond the scope of this assignment and will be skipped in this analysis. "
   ]
  },
  {
   "cell_type": "markdown",
   "id": "f919e7ba-6f37-4b98-906a-3ed167aa7401",
   "metadata": {},
   "source": [
    "## Final Coverage Rate\n",
    "\n",
    "We've done a few manipulations to our data set, now let's see how much we've increased our coverage rate by!"
   ]
  },
  {
   "cell_type": "code",
   "execution_count": 17,
   "id": "c5770200-0181-45bc-b8ef-5700ccdcc227",
   "metadata": {
    "tags": []
   },
   "outputs": [],
   "source": [
    "#creating a new full addresses column for each dataframe\n",
    "test[\"fulladdress2\"] = test['address'] + \", \" + test['city'] + \", \" + test['state'] + \" \" + test['zip']\n",
    "clean[\"fulladdress2\"] = clean['address'] + \", \" + clean['city'] + \", \" + clean['state'] + \" \" + clean['zip']"
   ]
  },
  {
   "cell_type": "code",
   "execution_count": 18,
   "id": "554d7981-daf3-4c3e-b7de-efc07411a798",
   "metadata": {
    "tags": []
   },
   "outputs": [
    {
     "name": "stdout",
     "output_type": "stream",
     "text": [
      "Number of exact full address matches: 71755\n"
     ]
    }
   ],
   "source": [
    "exact_matches_fulladdress2 = test[test['fulladdress2'].isin(clean['fulladdress2'])]\n",
    "exact_matches_fulladdress2_count = len(exact_matches_fulladdress2)\n",
    "print(f\"Number of exact full address matches: {exact_matches_fulladdress2_count}\")"
   ]
  },
  {
   "cell_type": "markdown",
   "id": "c30b7363-c6c5-48c3-8d4b-b0fb01e7d09c",
   "metadata": {},
   "source": [
    "We increased the number of exact address matches from 64,526 to 71,755 hoorah! Hence our coverage rate increased from **65% to 72%**. That is an **increase of coverage rates by 7%**. Let's go analyze some properties!"
   ]
  }
 ],
 "metadata": {
  "kernelspec": {
   "display_name": "Python 3 (ipykernel)",
   "language": "python",
   "name": "python3"
  },
  "language_info": {
   "codemirror_mode": {
    "name": "ipython",
    "version": 3
   },
   "file_extension": ".py",
   "mimetype": "text/x-python",
   "name": "python",
   "nbconvert_exporter": "python",
   "pygments_lexer": "ipython3",
   "version": "3.11.3"
  }
 },
 "nbformat": 4,
 "nbformat_minor": 5
}
